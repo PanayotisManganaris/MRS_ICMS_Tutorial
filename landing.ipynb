{
 "cells": [
  {
   "cell_type": "markdown",
   "metadata": {},
   "source": [
    "MRS Data Driven Materials Design Tutorial\n",
    "=========================================\n",
    "\n",
    "**Author:** Panayotis Manganaris\n",
    "\n"
   ]
  },
  {
   "cell_type": "markdown",
   "metadata": {},
   "source": [
    "## Welcome\n",
    "\n"
   ]
  },
  {
   "cell_type": "markdown",
   "metadata": {},
   "source": [
    "The following notebooks will introduce you to an example of rigorously\n",
    "developing a simple surrogate model of Perovskite band gaps for use in\n",
    "an inverse design framework.\n",
    "\n",
    "The notebooks contain code cell interspersed with explanations of the\n",
    "engineering design process.\n",
    "\n",
    "The dataset used is a subset of the Mannodi Research Group's\n",
    "computational cubic Perovskites data base.\n",
    "\n"
   ]
  },
  {
   "cell_type": "markdown",
   "metadata": {},
   "source": [
    "## Exploratory Data Analysis with Seaborg\n",
    "\n"
   ]
  },
  {
   "cell_type": "markdown",
   "metadata": {},
   "source": [
    "Walk-through to visualizing many-dimensional data spaces\n",
    "\n",
    "novel steps:\n",
    "\n",
    "-   load data\n",
    "-   featurize data\n",
    "-   identify links between subspaces\n",
    "-   set modeling objectives\n",
    "-   use unsupervised learning to help intuit more complex multivariate relationships\n",
    "\n",
    "[Exploratory Data Analysis](./visualizations_tutor.ipynb)\n",
    "\n"
   ]
  },
  {
   "cell_type": "markdown",
   "metadata": {},
   "source": [
    "## Simple Linear Model\n",
    "\n"
   ]
  },
  {
   "cell_type": "markdown",
   "metadata": {},
   "source": [
    "Linear models are capable of offering clear intuitive explanations of\n",
    "multivariate relationships, but they are often not flexible enough to\n",
    "act as surrogates in active learning strategies. Nevertheless, it's\n",
    "good to check.\n",
    "\n",
    "novel steps:\n",
    "\n",
    "-   follow good data hygiene\n",
    "-   construct machine learning pipelines\n",
    "-   evaluate model\n",
    "\n"
   ]
  },
  {
   "cell_type": "markdown",
   "metadata": {},
   "source": [
    "## Rigorous Hyper-parameter optimization in Random Forest Regression\n",
    "\n"
   ]
  },
  {
   "cell_type": "markdown",
   "metadata": {},
   "source": [
    "This data requires a model capable of accurately extrapolating from\n",
    "the relations between certain simple alloys and their properties to\n",
    "the relations between arbitrary alloys and their properties.\n",
    "\n",
    "novel steps:\n",
    "\n",
    "-   use multiple kinds of cross validation to evaluate model performance in development stages\n",
    "-   coerce simple architecture to prioritize extrapolating between subsets of relations\n",
    "-   assemble multi objective scoring schemes compliant with sklearn workflows to aid in model selection\n",
    "-   perform hyper-parameter optimization and sensitivity analysis\n",
    "\n",
    "[Regression Example: Random Forest with Hyper Parameter Optimization](./RFR_opt_bg_tutor.ipynb)\n",
    "\n"
   ]
  },
  {
   "cell_type": "markdown",
   "metadata": {},
   "source": [
    "## Neural Network Regression\n",
    "\n"
   ]
  },
  {
   "cell_type": "markdown",
   "metadata": {},
   "source": [
    "RFRs are extremely simple models. While highly flexible, their ability\n",
    "to learn underlying trends are limited to simple, relatively high bias\n",
    "targets.\n",
    "\n",
    "Neural Networks are capable of learning any function. However, their\n",
    "hyper parameters are more fundamental to their structure and are harder\n",
    "to optimize.\n",
    "\n",
    "novel steps:\n",
    "\n",
    "-   creating a neural network estimator using tensorflow.\n",
    "\n",
    "[Regression Example: Multilayer Neural Network with TensorFlow](./NN_bg_tutor.ipynb)\n",
    "\n"
   ]
  },
  {
   "cell_type": "markdown",
   "metadata": {},
   "source": [
    "## Neural Network Classification\n",
    "\n"
   ]
  },
  {
   "cell_type": "markdown",
   "metadata": {},
   "source": [
    "The Mannodi dataset discussed here is constrained to cubic\n",
    "structures. Learning to extrapolate to other kinds of structures will\n",
    "require models that are capable of processing data in the form of\n",
    "graph structures.\n",
    "\n",
    "Images are exceedingly simple graph structures. So, in lieu of\n",
    "variable structure graphs, a simple image classification neural\n",
    "network is demonstrated.\n",
    "\n",
    "Come to the next Fall MRS meeting for a walk-through applying these\n",
    "models to material structures, maybe.\n",
    "\n",
    "[MNIST fashion dataset classification cNN](./image_classification_tutor.ipynb)\n",
    "\n"
   ]
  }
 ],
 "metadata": {
  "kernelspec": {
   "display_name": "mrsicms",
   "language": "python",
   "name": "mrsicms"
  },
  "language_info": {
   "codemirror_mode": {
    "name": "ipython",
    "version": 3
   },
   "file_extension": ".py",
   "mimetype": "text/x-python",
   "name": "python",
   "nbconvert_exporter": "python",
   "pygments_lexer": "ipython3",
   "version": "3.7.13"
  },
  "org": null
 },
 "nbformat": 4,
 "nbformat_minor": 1
}
